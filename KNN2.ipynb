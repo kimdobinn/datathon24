{
 "cells": [
  {
   "cell_type": "code",
   "execution_count": 1,
   "id": "22ad22d2-1487-4b3d-af3e-eb6c9cc7fa14",
   "metadata": {},
   "outputs": [],
   "source": [
    "import pandas as pd\n",
    "import numpy as np\n",
    "import matplotlib.pyplot as plt\n",
    "import seaborn as sb"
   ]
  },
  {
   "cell_type": "code",
   "execution_count": 2,
   "id": "dde2d599-4454-4709-9738-27a4b988cb14",
   "metadata": {},
   "outputs": [],
   "source": [
    "df_main = pd.read_csv(\"credit_card_transactions-ibm_v2.csv\")\n",
    "df_users = pd.read_csv(\"sd254_users.csv\")\n",
    "df_cards = pd.read_csv(\"sd254_cards.csv\")"
   ]
  },
  {
   "cell_type": "markdown",
   "id": "0256f1d0-3c96-4276-a7a6-29ffdb42128c",
   "metadata": {},
   "source": [
    "### Steps in Implementing Credit Card Fraud Detection\n",
    "1. Reading, understanding and visualizing data - Exploratory Data Analysis\n",
    "3. Preparing the data for modelling\n",
    "4. Building the model\n",
    "5. Evaluate the model\n"
   ]
  },
  {
   "cell_type": "markdown",
   "id": "fa9d45ac-b8cf-4948-bf09-a8fec01d1d52",
   "metadata": {},
   "source": [
    "## 1. Reading, understanding, and visualizing data - EDA\n",
    "Cleaning up Dataset - used for creating a smaller, representative dataset for analysis or testing, or for sampling users for further processing."
   ]
  },
  {
   "cell_type": "code",
   "execution_count": 3,
   "id": "f452a350-3a7d-46e9-8628-d58365bf76de",
   "metadata": {},
   "outputs": [],
   "source": [
    "users = df_main['User'].unique()  # Extracts all unique users from df_main\n",
    "selected_trans = pd.Series(users).sample(frac=0.4, replace=False, random_state=42) # Selecting a Random Sample of Users\n",
    "filtered = df_main[df_main['User'].isin(selected_trans)] # Filtering Transactions Based on Selected Users"
   ]
  },
  {
   "cell_type": "code",
   "execution_count": 4,
   "id": "eb8ffced-e1e2-46de-8f47-4b5b546dd531",
   "metadata": {},
   "outputs": [],
   "source": [
    "df=filtered.copy()"
   ]
  },
  {
   "cell_type": "code",
   "execution_count": 5,
   "id": "9617dace-c4ab-4f86-a364-7001b7a336c2",
   "metadata": {},
   "outputs": [
    {
     "name": "stdout",
     "output_type": "stream",
     "text": [
      "<class 'pandas.core.frame.DataFrame'>\n",
      "Index: 9688065 entries, 28882 to 24382138\n",
      "Data columns (total 15 columns):\n",
      " #   Column          Dtype  \n",
      "---  ------          -----  \n",
      " 0   User            int64  \n",
      " 1   Card            int64  \n",
      " 2   Year            int64  \n",
      " 3   Month           int64  \n",
      " 4   Day             int64  \n",
      " 5   Time            object \n",
      " 6   Amount          object \n",
      " 7   Use Chip        object \n",
      " 8   Merchant Name   int64  \n",
      " 9   Merchant City   object \n",
      " 10  Merchant State  object \n",
      " 11  Zip             float64\n",
      " 12  MCC             int64  \n",
      " 13  Errors?         object \n",
      " 14  Is Fraud?       object \n",
      "dtypes: float64(1), int64(7), object(7)\n",
      "memory usage: 1.2+ GB\n"
     ]
    }
   ],
   "source": [
    "df.info()"
   ]
  },
  {
   "cell_type": "code",
   "execution_count": 6,
   "id": "6bc49295-ba2b-498a-9104-74e127da661e",
   "metadata": {},
   "outputs": [
    {
     "data": {
      "text/html": [
       "<div>\n",
       "<style scoped>\n",
       "    .dataframe tbody tr th:only-of-type {\n",
       "        vertical-align: middle;\n",
       "    }\n",
       "\n",
       "    .dataframe tbody tr th {\n",
       "        vertical-align: top;\n",
       "    }\n",
       "\n",
       "    .dataframe thead th {\n",
       "        text-align: right;\n",
       "    }\n",
       "</style>\n",
       "<table border=\"1\" class=\"dataframe\">\n",
       "  <thead>\n",
       "    <tr style=\"text-align: right;\">\n",
       "      <th></th>\n",
       "      <th>User</th>\n",
       "      <th>Card</th>\n",
       "      <th>Year</th>\n",
       "      <th>Month</th>\n",
       "      <th>Day</th>\n",
       "      <th>Time</th>\n",
       "      <th>Amount</th>\n",
       "      <th>Use Chip</th>\n",
       "      <th>Merchant Name</th>\n",
       "      <th>Merchant City</th>\n",
       "      <th>Merchant State</th>\n",
       "      <th>Zip</th>\n",
       "      <th>MCC</th>\n",
       "      <th>Errors?</th>\n",
       "      <th>Is Fraud?</th>\n",
       "    </tr>\n",
       "  </thead>\n",
       "  <tbody>\n",
       "    <tr>\n",
       "      <th>28882</th>\n",
       "      <td>2</td>\n",
       "      <td>0</td>\n",
       "      <td>2009</td>\n",
       "      <td>9</td>\n",
       "      <td>26</td>\n",
       "      <td>01:56</td>\n",
       "      <td>$948.44</td>\n",
       "      <td>Online Transaction</td>\n",
       "      <td>3694722044710185708</td>\n",
       "      <td>ONLINE</td>\n",
       "      <td>NaN</td>\n",
       "      <td>NaN</td>\n",
       "      <td>4722</td>\n",
       "      <td>NaN</td>\n",
       "      <td>No</td>\n",
       "    </tr>\n",
       "    <tr>\n",
       "      <th>28883</th>\n",
       "      <td>2</td>\n",
       "      <td>0</td>\n",
       "      <td>2009</td>\n",
       "      <td>10</td>\n",
       "      <td>1</td>\n",
       "      <td>04:13</td>\n",
       "      <td>$42.98</td>\n",
       "      <td>Online Transaction</td>\n",
       "      <td>-6458444334611773637</td>\n",
       "      <td>ONLINE</td>\n",
       "      <td>NaN</td>\n",
       "      <td>NaN</td>\n",
       "      <td>4784</td>\n",
       "      <td>NaN</td>\n",
       "      <td>No</td>\n",
       "    </tr>\n",
       "    <tr>\n",
       "      <th>28884</th>\n",
       "      <td>2</td>\n",
       "      <td>0</td>\n",
       "      <td>2009</td>\n",
       "      <td>10</td>\n",
       "      <td>1</td>\n",
       "      <td>10:49</td>\n",
       "      <td>$9.85</td>\n",
       "      <td>Swipe Transaction</td>\n",
       "      <td>-4891055843221560993</td>\n",
       "      <td>West Covina</td>\n",
       "      <td>CA</td>\n",
       "      <td>91792.0</td>\n",
       "      <td>5411</td>\n",
       "      <td>NaN</td>\n",
       "      <td>No</td>\n",
       "    </tr>\n",
       "    <tr>\n",
       "      <th>28885</th>\n",
       "      <td>2</td>\n",
       "      <td>0</td>\n",
       "      <td>2009</td>\n",
       "      <td>10</td>\n",
       "      <td>1</td>\n",
       "      <td>14:30</td>\n",
       "      <td>$36.39</td>\n",
       "      <td>Online Transaction</td>\n",
       "      <td>-6458444334611773637</td>\n",
       "      <td>ONLINE</td>\n",
       "      <td>NaN</td>\n",
       "      <td>NaN</td>\n",
       "      <td>4784</td>\n",
       "      <td>NaN</td>\n",
       "      <td>No</td>\n",
       "    </tr>\n",
       "    <tr>\n",
       "      <th>28886</th>\n",
       "      <td>2</td>\n",
       "      <td>0</td>\n",
       "      <td>2009</td>\n",
       "      <td>10</td>\n",
       "      <td>2</td>\n",
       "      <td>04:25</td>\n",
       "      <td>$56.60</td>\n",
       "      <td>Online Transaction</td>\n",
       "      <td>-6458444334611773637</td>\n",
       "      <td>ONLINE</td>\n",
       "      <td>NaN</td>\n",
       "      <td>NaN</td>\n",
       "      <td>4784</td>\n",
       "      <td>NaN</td>\n",
       "      <td>No</td>\n",
       "    </tr>\n",
       "  </tbody>\n",
       "</table>\n",
       "</div>"
      ],
      "text/plain": [
       "       User  Card  Year  Month  Day   Time   Amount            Use Chip  \\\n",
       "28882     2     0  2009      9   26  01:56  $948.44  Online Transaction   \n",
       "28883     2     0  2009     10    1  04:13   $42.98  Online Transaction   \n",
       "28884     2     0  2009     10    1  10:49    $9.85   Swipe Transaction   \n",
       "28885     2     0  2009     10    1  14:30   $36.39  Online Transaction   \n",
       "28886     2     0  2009     10    2  04:25   $56.60  Online Transaction   \n",
       "\n",
       "             Merchant Name Merchant City Merchant State      Zip   MCC  \\\n",
       "28882  3694722044710185708        ONLINE            NaN      NaN  4722   \n",
       "28883 -6458444334611773637        ONLINE            NaN      NaN  4784   \n",
       "28884 -4891055843221560993   West Covina             CA  91792.0  5411   \n",
       "28885 -6458444334611773637        ONLINE            NaN      NaN  4784   \n",
       "28886 -6458444334611773637        ONLINE            NaN      NaN  4784   \n",
       "\n",
       "      Errors? Is Fraud?  \n",
       "28882     NaN        No  \n",
       "28883     NaN        No  \n",
       "28884     NaN        No  \n",
       "28885     NaN        No  \n",
       "28886     NaN        No  "
      ]
     },
     "execution_count": 6,
     "metadata": {},
     "output_type": "execute_result"
    }
   ],
   "source": [
    "df.head() # this is the sample of the large dataset with randomly selected users"
   ]
  },
  {
   "cell_type": "code",
   "execution_count": 7,
   "id": "ca86e133-98da-49e6-8fa9-1a4acfbd3e6a",
   "metadata": {},
   "outputs": [
    {
     "data": {
      "text/plain": [
       "Is Fraud?\n",
       "No     9676336\n",
       "Yes      11729\n",
       "Name: count, dtype: int64"
      ]
     },
     "execution_count": 7,
     "metadata": {},
     "output_type": "execute_result"
    }
   ],
   "source": [
    "df['Is Fraud?'].value_counts() # checking the number of fraudulent transactions"
   ]
  },
  {
   "cell_type": "code",
   "execution_count": 8,
   "id": "6dc4ddc5-16e1-46a1-8110-25f4bf8882da",
   "metadata": {},
   "outputs": [
    {
     "data": {
      "text/plain": [
       "User                    0\n",
       "Card                    0\n",
       "Year                    0\n",
       "Month                   0\n",
       "Day                     0\n",
       "Time                    0\n",
       "Amount                  0\n",
       "Use Chip                0\n",
       "Merchant Name           0\n",
       "Merchant City           0\n",
       "Merchant State    1132934\n",
       "Zip               1197293\n",
       "MCC                     0\n",
       "Errors?           9532311\n",
       "Is Fraud?               0\n",
       "dtype: int64"
      ]
     },
     "execution_count": 8,
     "metadata": {},
     "output_type": "execute_result"
    }
   ],
   "source": [
    "df.isnull().sum() # checking for missing values in the columns"
   ]
  },
  {
   "cell_type": "code",
   "execution_count": 9,
   "id": "6051c9de-9f32-4691-be7a-7705ca0c9da8",
   "metadata": {},
   "outputs": [
    {
     "data": {
      "text/plain": [
       "Merchant City\n",
       "ONLINE             1132934\n",
       "Houston             161111\n",
       "Chicago              83921\n",
       "Dallas               66550\n",
       "Miami                60492\n",
       "                    ...   \n",
       "Craigsville              1\n",
       "Bosque                   1\n",
       "Veyo                     1\n",
       "Pleasant Unity           1\n",
       "Laurel Bloomery          1\n",
       "Name: count, Length: 11640, dtype: int64"
      ]
     },
     "execution_count": 9,
     "metadata": {},
     "output_type": "execute_result"
    }
   ],
   "source": [
    "df['Merchant City'].value_counts()"
   ]
  },
  {
   "cell_type": "code",
   "execution_count": 10,
   "id": "7f860f70-a39b-4a14-836f-b81804c742f8",
   "metadata": {},
   "outputs": [
    {
     "data": {
      "text/plain": [
       "MCC\n",
       "5411    1118044\n",
       "5499    1090292\n",
       "5541    1054070\n",
       "5812     702784\n",
       "5912     536227\n",
       "         ...   \n",
       "3007        275\n",
       "4411        258\n",
       "5722        246\n",
       "3144        243\n",
       "5733        180\n",
       "Name: count, Length: 109, dtype: int64"
      ]
     },
     "execution_count": 10,
     "metadata": {},
     "output_type": "execute_result"
    }
   ],
   "source": [
    "df['MCC'].value_counts()"
   ]
  },
  {
   "cell_type": "markdown",
   "id": "84200e94-0114-4773-8190-3a62c4c4314a",
   "metadata": {},
   "source": [
    "## 2. Preparing the data for modelling"
   ]
  },
  {
   "cell_type": "code",
   "execution_count": 11,
   "id": "809bcb01-92cf-4b98-a179-f2ef8cf93869",
   "metadata": {},
   "outputs": [],
   "source": [
    "# We need to remove the '$' to change the attribute as float - to ease the data processing\n",
    "df['Amount'] = df['Amount'].str.replace('$', '').astype(float)"
   ]
  },
  {
   "cell_type": "code",
   "execution_count": 12,
   "id": "174681d6-de55-4e57-ae27-3efe72770f22",
   "metadata": {},
   "outputs": [],
   "source": [
    "# Need to separate hour and minute to perform a better time series analysis\n",
    "df['Hour'] = df['Time'].str[0:2]\n",
    "df['Minute'] = df['Time'].str[3:5]\n",
    "df = df.drop(['Time'], axis=1)"
   ]
  },
  {
   "cell_type": "code",
   "execution_count": 13,
   "id": "9c4ebfd4-23d0-4e11-aedf-eec56008835f",
   "metadata": {},
   "outputs": [],
   "source": [
    "# We also need the change the Fraud column from string to boolean values, where 1 = 'Yes', 0 = 'No'\n",
    "df['Is Fraud?'] = df['Is Fraud?'].apply(lambda x:1 if x == 'Yes' else 0)"
   ]
  },
  {
   "cell_type": "code",
   "execution_count": 14,
   "id": "80170f28-2902-493b-8566-5e1bf155fc88",
   "metadata": {},
   "outputs": [
    {
     "name": "stderr",
     "output_type": "stream",
     "text": [
      "/var/folders/0m/d4xwfvr11f9g7yflwxh0w_c40000gn/T/ipykernel_64603/218366416.py:1: FutureWarning: A value is trying to be set on a copy of a DataFrame or Series through chained assignment using an inplace method.\n",
      "The behavior will change in pandas 3.0. This inplace method will never work because the intermediate object on which we are setting values always behaves as a copy.\n",
      "\n",
      "For example, when doing 'df[col].method(value, inplace=True)', try using 'df.method({col: value}, inplace=True)' or df[col] = df[col].method(value) instead, to perform the operation inplace on the original object.\n",
      "\n",
      "\n",
      "  df['Errors?'].fillna('Unknown', inplace=True)\n"
     ]
    }
   ],
   "source": [
    "df['Errors?'].fillna('Unknown', inplace=True)\n",
    "# for the missing values in the column 'Errors?', I filled it in with 'Unknown'"
   ]
  },
  {
   "cell_type": "code",
   "execution_count": 15,
   "id": "4e5d5a0b-dd89-4e93-8866-8e47e219ce8c",
   "metadata": {},
   "outputs": [
    {
     "data": {
      "text/plain": [
       "28882    Unknown\n",
       "28883    Unknown\n",
       "28884    Unknown\n",
       "28885    Unknown\n",
       "28886    Unknown\n",
       "Name: Errors?, dtype: object"
      ]
     },
     "execution_count": 15,
     "metadata": {},
     "output_type": "execute_result"
    }
   ],
   "source": [
    "df['Errors?'].head()"
   ]
  },
  {
   "cell_type": "code",
   "execution_count": 16,
   "id": "97aae56b-7417-4a0d-bd13-05698cda6924",
   "metadata": {},
   "outputs": [],
   "source": [
    "# The number of missing values in Merchant State is the same as the number of Online transactions in Merchant City\n",
    "# So I will be filling in the missing values of Merchant State as 'ONLINE'\n",
    "df.loc[(df['Merchant City'] == 'ONLINE') & (df['Merchant State'].isnull()), 'Merchant State'] = 'ONLINE'"
   ]
  },
  {
   "cell_type": "code",
   "execution_count": 17,
   "id": "301f1462-98a1-4aa0-973f-cb81dfaed0d6",
   "metadata": {},
   "outputs": [
    {
     "data": {
      "text/plain": [
       "Merchant City\n",
       "ONLINE             1132934\n",
       "Houston             161111\n",
       "Chicago              83921\n",
       "Dallas               66550\n",
       "Miami                60492\n",
       "                    ...   \n",
       "Craigsville              1\n",
       "Bosque                   1\n",
       "Veyo                     1\n",
       "Pleasant Unity           1\n",
       "Laurel Bloomery          1\n",
       "Name: count, Length: 11640, dtype: int64"
      ]
     },
     "execution_count": 17,
     "metadata": {},
     "output_type": "execute_result"
    }
   ],
   "source": [
    "df['Merchant City'].value_counts()"
   ]
  },
  {
   "cell_type": "code",
   "execution_count": 18,
   "id": "97636b23-8ca5-401a-b03e-6f1c206c93c3",
   "metadata": {},
   "outputs": [
    {
     "data": {
      "text/plain": [
       "28882           nan\n",
       "28883           nan\n",
       "28884       91792.0\n",
       "28885           nan\n",
       "28886           nan\n",
       "             ...   \n",
       "24382134    17011.0\n",
       "24382135    17042.0\n",
       "24382136    17011.0\n",
       "24382137    17011.0\n",
       "24382138    17011.0\n",
       "Name: Zip, Length: 9688065, dtype: object"
      ]
     },
     "execution_count": 18,
     "metadata": {},
     "output_type": "execute_result"
    }
   ],
   "source": [
    "df['Zip'].astype(str)"
   ]
  },
  {
   "cell_type": "code",
   "execution_count": 19,
   "id": "3f795869-47bf-4506-b965-28d41e14dfc9",
   "metadata": {},
   "outputs": [
    {
     "name": "stderr",
     "output_type": "stream",
     "text": [
      "/var/folders/0m/d4xwfvr11f9g7yflwxh0w_c40000gn/T/ipykernel_64603/1826326407.py:2: FutureWarning: Setting an item of incompatible dtype is deprecated and will raise an error in a future version of pandas. Value 'ONLINE' has dtype incompatible with float64, please explicitly cast to a compatible dtype first.\n",
      "  df.loc[(df['Merchant City'] == 'ONLINE') & (df['Merchant State'] == 'ONLINE') & (df['Zip'].isnull()), 'Zip'] = 'ONLINE'\n"
     ]
    }
   ],
   "source": [
    "# Filling missing Zip values with 'ONLINE' if Merchant City and Merchant State are both 'ONLINE'\n",
    "df.loc[(df['Merchant City'] == 'ONLINE') & (df['Merchant State'] == 'ONLINE') & (df['Zip'].isnull()), 'Zip'] = 'ONLINE'"
   ]
  },
  {
   "cell_type": "code",
   "execution_count": 20,
   "id": "27fe3bf6-3b86-485f-8951-17a52ff79c41",
   "metadata": {},
   "outputs": [
    {
     "data": {
      "text/plain": [
       "User                  0\n",
       "Card                  0\n",
       "Year                  0\n",
       "Month                 0\n",
       "Day                   0\n",
       "Amount                0\n",
       "Use Chip              0\n",
       "Merchant Name         0\n",
       "Merchant City         0\n",
       "Merchant State        0\n",
       "Zip               64359\n",
       "MCC                   0\n",
       "Errors?               0\n",
       "Is Fraud?             0\n",
       "Hour                  0\n",
       "Minute                0\n",
       "dtype: int64"
      ]
     },
     "execution_count": 20,
     "metadata": {},
     "output_type": "execute_result"
    }
   ],
   "source": [
    "df.isnull().sum()"
   ]
  },
  {
   "cell_type": "code",
   "execution_count": 21,
   "id": "cb0315bc-74ee-4de4-b9dd-d7bec89aa612",
   "metadata": {},
   "outputs": [],
   "source": [
    "df['Zip'] = df['Zip'].fillna('Unknown')"
   ]
  },
  {
   "cell_type": "code",
   "execution_count": 22,
   "id": "5169ce07-8303-423d-be07-95d5ce993752",
   "metadata": {},
   "outputs": [
    {
     "data": {
      "text/plain": [
       "User              0\n",
       "Card              0\n",
       "Year              0\n",
       "Month             0\n",
       "Day               0\n",
       "Amount            0\n",
       "Use Chip          0\n",
       "Merchant Name     0\n",
       "Merchant City     0\n",
       "Merchant State    0\n",
       "Zip               0\n",
       "MCC               0\n",
       "Errors?           0\n",
       "Is Fraud?         0\n",
       "Hour              0\n",
       "Minute            0\n",
       "dtype: int64"
      ]
     },
     "execution_count": 22,
     "metadata": {},
     "output_type": "execute_result"
    }
   ],
   "source": [
    "df.isnull().sum()"
   ]
  },
  {
   "cell_type": "code",
   "execution_count": 23,
   "id": "e1da968d-c526-4b15-93d3-b28ce53144b3",
   "metadata": {},
   "outputs": [
    {
     "data": {
      "text/html": [
       "<div>\n",
       "<style scoped>\n",
       "    .dataframe tbody tr th:only-of-type {\n",
       "        vertical-align: middle;\n",
       "    }\n",
       "\n",
       "    .dataframe tbody tr th {\n",
       "        vertical-align: top;\n",
       "    }\n",
       "\n",
       "    .dataframe thead th {\n",
       "        text-align: right;\n",
       "    }\n",
       "</style>\n",
       "<table border=\"1\" class=\"dataframe\">\n",
       "  <thead>\n",
       "    <tr style=\"text-align: right;\">\n",
       "      <th></th>\n",
       "      <th>User</th>\n",
       "      <th>Card</th>\n",
       "      <th>Year</th>\n",
       "      <th>Month</th>\n",
       "      <th>Day</th>\n",
       "      <th>Amount</th>\n",
       "      <th>Use Chip</th>\n",
       "      <th>Merchant Name</th>\n",
       "      <th>Merchant City</th>\n",
       "      <th>Merchant State</th>\n",
       "      <th>Zip</th>\n",
       "      <th>MCC</th>\n",
       "      <th>Errors?</th>\n",
       "      <th>Is Fraud?</th>\n",
       "      <th>Hour</th>\n",
       "      <th>Minute</th>\n",
       "    </tr>\n",
       "  </thead>\n",
       "  <tbody>\n",
       "    <tr>\n",
       "      <th>28882</th>\n",
       "      <td>2</td>\n",
       "      <td>0</td>\n",
       "      <td>2009</td>\n",
       "      <td>9</td>\n",
       "      <td>26</td>\n",
       "      <td>948.44</td>\n",
       "      <td>Online Transaction</td>\n",
       "      <td>3694722044710185708</td>\n",
       "      <td>ONLINE</td>\n",
       "      <td>ONLINE</td>\n",
       "      <td>ONLINE</td>\n",
       "      <td>4722</td>\n",
       "      <td>Unknown</td>\n",
       "      <td>0</td>\n",
       "      <td>01</td>\n",
       "      <td>56</td>\n",
       "    </tr>\n",
       "    <tr>\n",
       "      <th>28883</th>\n",
       "      <td>2</td>\n",
       "      <td>0</td>\n",
       "      <td>2009</td>\n",
       "      <td>10</td>\n",
       "      <td>1</td>\n",
       "      <td>42.98</td>\n",
       "      <td>Online Transaction</td>\n",
       "      <td>-6458444334611773637</td>\n",
       "      <td>ONLINE</td>\n",
       "      <td>ONLINE</td>\n",
       "      <td>ONLINE</td>\n",
       "      <td>4784</td>\n",
       "      <td>Unknown</td>\n",
       "      <td>0</td>\n",
       "      <td>04</td>\n",
       "      <td>13</td>\n",
       "    </tr>\n",
       "    <tr>\n",
       "      <th>28884</th>\n",
       "      <td>2</td>\n",
       "      <td>0</td>\n",
       "      <td>2009</td>\n",
       "      <td>10</td>\n",
       "      <td>1</td>\n",
       "      <td>9.85</td>\n",
       "      <td>Swipe Transaction</td>\n",
       "      <td>-4891055843221560993</td>\n",
       "      <td>West Covina</td>\n",
       "      <td>CA</td>\n",
       "      <td>91792.0</td>\n",
       "      <td>5411</td>\n",
       "      <td>Unknown</td>\n",
       "      <td>0</td>\n",
       "      <td>10</td>\n",
       "      <td>49</td>\n",
       "    </tr>\n",
       "    <tr>\n",
       "      <th>28885</th>\n",
       "      <td>2</td>\n",
       "      <td>0</td>\n",
       "      <td>2009</td>\n",
       "      <td>10</td>\n",
       "      <td>1</td>\n",
       "      <td>36.39</td>\n",
       "      <td>Online Transaction</td>\n",
       "      <td>-6458444334611773637</td>\n",
       "      <td>ONLINE</td>\n",
       "      <td>ONLINE</td>\n",
       "      <td>ONLINE</td>\n",
       "      <td>4784</td>\n",
       "      <td>Unknown</td>\n",
       "      <td>0</td>\n",
       "      <td>14</td>\n",
       "      <td>30</td>\n",
       "    </tr>\n",
       "    <tr>\n",
       "      <th>28886</th>\n",
       "      <td>2</td>\n",
       "      <td>0</td>\n",
       "      <td>2009</td>\n",
       "      <td>10</td>\n",
       "      <td>2</td>\n",
       "      <td>56.60</td>\n",
       "      <td>Online Transaction</td>\n",
       "      <td>-6458444334611773637</td>\n",
       "      <td>ONLINE</td>\n",
       "      <td>ONLINE</td>\n",
       "      <td>ONLINE</td>\n",
       "      <td>4784</td>\n",
       "      <td>Unknown</td>\n",
       "      <td>0</td>\n",
       "      <td>04</td>\n",
       "      <td>25</td>\n",
       "    </tr>\n",
       "  </tbody>\n",
       "</table>\n",
       "</div>"
      ],
      "text/plain": [
       "       User  Card  Year  Month  Day  Amount            Use Chip  \\\n",
       "28882     2     0  2009      9   26  948.44  Online Transaction   \n",
       "28883     2     0  2009     10    1   42.98  Online Transaction   \n",
       "28884     2     0  2009     10    1    9.85   Swipe Transaction   \n",
       "28885     2     0  2009     10    1   36.39  Online Transaction   \n",
       "28886     2     0  2009     10    2   56.60  Online Transaction   \n",
       "\n",
       "             Merchant Name Merchant City Merchant State      Zip   MCC  \\\n",
       "28882  3694722044710185708        ONLINE         ONLINE   ONLINE  4722   \n",
       "28883 -6458444334611773637        ONLINE         ONLINE   ONLINE  4784   \n",
       "28884 -4891055843221560993   West Covina             CA  91792.0  5411   \n",
       "28885 -6458444334611773637        ONLINE         ONLINE   ONLINE  4784   \n",
       "28886 -6458444334611773637        ONLINE         ONLINE   ONLINE  4784   \n",
       "\n",
       "       Errors?  Is Fraud? Hour Minute  \n",
       "28882  Unknown          0   01     56  \n",
       "28883  Unknown          0   04     13  \n",
       "28884  Unknown          0   10     49  \n",
       "28885  Unknown          0   14     30  \n",
       "28886  Unknown          0   04     25  "
      ]
     },
     "execution_count": 23,
     "metadata": {},
     "output_type": "execute_result"
    }
   ],
   "source": [
    "df.head()"
   ]
  },
  {
   "cell_type": "code",
   "execution_count": 24,
   "id": "42d74ead-7307-4efa-b452-15eee3a81e2a",
   "metadata": {},
   "outputs": [
    {
     "name": "stdout",
     "output_type": "stream",
     "text": [
      "<class 'pandas.core.frame.DataFrame'>\n",
      "Index: 9688065 entries, 28882 to 24382138\n",
      "Data columns (total 16 columns):\n",
      " #   Column          Dtype  \n",
      "---  ------          -----  \n",
      " 0   User            int64  \n",
      " 1   Card            int64  \n",
      " 2   Year            int64  \n",
      " 3   Month           int64  \n",
      " 4   Day             int64  \n",
      " 5   Amount          float64\n",
      " 6   Use Chip        object \n",
      " 7   Merchant Name   int64  \n",
      " 8   Merchant City   object \n",
      " 9   Merchant State  object \n",
      " 10  Zip             object \n",
      " 11  MCC             int64  \n",
      " 12  Errors?         object \n",
      " 13  Is Fraud?       int64  \n",
      " 14  Hour            object \n",
      " 15  Minute          object \n",
      "dtypes: float64(1), int64(8), object(7)\n",
      "memory usage: 1.2+ GB\n"
     ]
    }
   ],
   "source": [
    "df.info()"
   ]
  },
  {
   "cell_type": "markdown",
   "id": "e8ce2dd1-5037-4174-ad71-27dadac8efa9",
   "metadata": {},
   "source": [
    "### 3. Exploratory Data Analysis"
   ]
  },
  {
   "cell_type": "code",
   "execution_count": 25,
   "id": "04702a75-0d9c-482f-8ec3-932745e794f6",
   "metadata": {},
   "outputs": [],
   "source": [
    "fraud_data = df[df['Is Fraud?'] == 1]"
   ]
  },
  {
   "cell_type": "code",
   "execution_count": 26,
   "id": "efb77832-8188-49d2-b0dc-a78883ca287a",
   "metadata": {},
   "outputs": [
    {
     "data": {
      "text/plain": [
       "<function matplotlib.pyplot.show(close=None, block=None)>"
      ]
     },
     "execution_count": 26,
     "metadata": {},
     "output_type": "execute_result"
    },
    {
     "data": {
      "image/png": "[encoded data removed]",
      "text/plain": [
       "<Figure size 640x480 with 1 Axes>"
      ]
     },
     "metadata": {},
     "output_type": "display_data"
    }
   ],
   "source": [
    "sb.histplot(fraud_data['Amount'].astype(float), kde = False, bins = 80)\n",
    "plt.title('Distribution of Fraudulent Transaction Amounts')\n",
    "plt.xlabel('Amount')\n",
    "plt.ylabel('Number of Transactions')\n",
    "plt.show"
   ]
  },
  {
   "cell_type": "markdown",
   "id": "7562ef8c-8d38-4f0e-ae14-89324c6434af",
   "metadata": {},
   "source": [
    "From the figure above, we can infer that most of the 'fraud' amounts ranges from 0-250, meaning that fraudulent transaction is more likely to occur for small transactions."
   ]
  },
  {
   "cell_type": "code",
   "execution_count": 27,
   "id": "e639b8a6-a245-472e-a48b-06d9f2d958e0",
   "metadata": {},
   "outputs": [
    {
     "data": {
      "image/png": "[encoded data removed]",
      "text/plain": [
       "<Figure size 1500x1000 with 1 Axes>"
      ]
     },
     "metadata": {},
     "output_type": "display_data"
    }
   ],
   "source": [
    "plt.figure(figsize=(15,10))\n",
    "top_20_states = fraud_data['Merchant State'].value_counts().head(20).index.tolist()\n",
    "sb.countplot(data=fraud_data, y= \"Merchant State\", order = top_20_states)\n",
    "plt.title('Number of Fraudulent Transactions by Top 20 States')\n",
    "plt.show()"
   ]
  },
  {
   "cell_type": "markdown",
   "id": "8116c2ee-9f2a-469d-907b-7db2369e4c91",
   "metadata": {},
   "source": [
    "'Merchant State' includes states in the US and other countries, and in terms of country, there is a large contribution of fraudulent actions in Italy, Algeria, Haiti and Turkey. In terms of the states in the US, high contributions in Ohio, California, and Florida. However, the most contribution of the fraudulent transaction is still 'ONLINE'"
   ]
  },
  {
   "cell_type": "code",
   "execution_count": 28,
   "id": "9d14c7f4-eb8d-49b5-8dd5-d59927ee6ff2",
   "metadata": {},
   "outputs": [
    {
     "data": {
      "image/png": "[encoded data removed]",
      "text/plain": [
       "<Figure size 1500x1000 with 1 Axes>"
      ]
     },
     "metadata": {},
     "output_type": "display_data"
    }
   ],
   "source": [
    "plt.figure(figsize=(15, 10))\n",
    "top_20_cities = fraud_data['Merchant City'].value_counts().head(20).index\n",
    "sb.countplot(data=fraud_data, y='Merchant City', order=top_20_cities)\n",
    "plt.title('Number of Fraudulent Transactions by Top 20 Cities')\n",
    "plt.show()"
   ]
  },
  {
   "cell_type": "markdown",
   "id": "90311aea-69e4-4d05-9d5d-2ee20fff474d",
   "metadata": {},
   "source": [
    "Fraud primarily takes place in online transactions. Furthermore, cities like Rome, Algiers, and Port-au-Prince are significant hotspots with high levels of fraudulent activity."
   ]
  },
  {
   "cell_type": "code",
   "execution_count": 29,
   "id": "aa0644e0-2203-4237-9cdf-7a23e995f069",
   "metadata": {},
   "outputs": [
    {
     "data": {
      "image/png": "[encoded data removed]",
      "text/plain": [
       "<Figure size 1500x1000 with 1 Axes>"
      ]
     },
     "metadata": {},
     "output_type": "display_data"
    }
   ],
   "source": [
    "plt.figure(figsize=(15,10))\n",
    "sb.countplot(data=fraud_data, x='Year')\n",
    "plt.title(\"Number of 'Fraud' by Year\")\n",
    "plt.show()"
   ]
  },
  {
   "cell_type": "markdown",
   "id": "540f5a3a-f14a-435e-9fd6-9378ac458fec",
   "metadata": {},
   "source": [
    "During the 20th centuery, th number of fraudulent transaction was low, as the credit card system and internet was still not quite developed like today, entering the 21st century, the number of fraud has risen steadily then a huge drop in 2011 (likely due to the enhanced cybersecurity system). "
   ]
  },
  {
   "cell_type": "code",
   "execution_count": 30,
   "id": "5bc59b76-2aef-4953-8f13-5644f17835d0",
   "metadata": {},
   "outputs": [
    {
     "data": {
      "image/png": "[encoded data removed]",
      "text/plain": [
       "<Figure size 1500x1000 with 1 Axes>"
      ]
     },
     "metadata": {},
     "output_type": "display_data"
    }
   ],
   "source": [
    "plt.figure(figsize=(15,10))\n",
    "sb.countplot(data=fraud_data, x='Month')\n",
    "plt.title(\"Number of 'Fraud' by Month\")\n",
    "plt.show()"
   ]
  },
  {
   "cell_type": "markdown",
   "id": "0310780b-a7cc-4463-b2ca-eb915693ac53",
   "metadata": {},
   "source": [
    "just from the figure, we can't really say that which specific month has a drastic number of frauds, it is quite evenly distributed where the peak month at which there was the most fraudulent transaction is October."
   ]
  },
  {
   "cell_type": "code",
   "execution_count": 31,
   "id": "dfe3010e-1f95-4429-a90d-bd4f1f4b63b9",
   "metadata": {},
   "outputs": [
    {
     "data": {
      "image/png": "[encoded data removed]",
      "text/plain": [
       "<Figure size 1500x1000 with 1 Axes>"
      ]
     },
     "metadata": {},
     "output_type": "display_data"
    }
   ],
   "source": [
    "plt.figure(figsize=(15,10))\n",
    "sb.countplot(data=fraud_data, x='Day')\n",
    "plt.title(\"Number of 'Fraud' by Day of the Month\")\n",
    "plt.show()"
   ]
  },
  {
   "cell_type": "markdown",
   "id": "14ef693f-b1ff-4797-b3eb-a5888cda65fa",
   "metadata": {},
   "source": [
    "Just like the distribution in month, there isn't really a huge variation between the days. "
   ]
  },
  {
   "cell_type": "code",
   "execution_count": 32,
   "id": "df4edcf6-b71b-4a52-ae71-649f265a5108",
   "metadata": {},
   "outputs": [
    {
     "data": {
      "image/png": "[encoded data removed]",
      "text/plain": [
       "<Figure size 1500x1000 with 1 Axes>"
      ]
     },
     "metadata": {},
     "output_type": "display_data"
    }
   ],
   "source": [
    "plt.figure(figsize=(15,10))\n",
    "sb.countplot(data=fraud_data, x='Hour', order = sorted(fraud_data['Hour'].unique()))\n",
    "plt.title(\"Number of 'Fraud' by Hour\")\n",
    "plt.show()"
   ]
  },
  {
   "cell_type": "markdown",
   "id": "2e945f51-0a26-4524-86bf-f9a5c0d6621a",
   "metadata": {},
   "source": [
    "The peak hours in which most fraudulent activities occur us around noon, more specifically, around 11-12"
   ]
  },
  {
   "cell_type": "code",
   "execution_count": 33,
   "id": "3ec3629f-ccfd-4904-80a2-ef5f6d3c4663",
   "metadata": {},
   "outputs": [
    {
     "data": {
      "image/png": "[encoded data removed]",
      "text/plain": [
       "<Figure size 640x480 with 1 Axes>"
      ]
     },
     "metadata": {},
     "output_type": "display_data"
    }
   ],
   "source": [
    "sb.countplot(data=fraud_data, x = 'Use Chip')\n",
    "plt.title('Distribution of Fraudulent Transactions by Use Chip')\n",
    "plt.show()"
   ]
  },
  {
   "cell_type": "markdown",
   "id": "fbab4f78-6541-4156-987f-b3fa4ec86bb5",
   "metadata": {},
   "source": [
    "Online Transaction showcases the highest likelihood to fraud."
   ]
  },
  {
   "cell_type": "markdown",
   "id": "ef69bd3f-d2fe-462b-9d1c-c18593aa658a",
   "metadata": {},
   "source": [
    "## Building the Model"
   ]
  },
  {
   "cell_type": "markdown",
   "id": "52637bb6-7d0a-495d-b900-8031cb496da6",
   "metadata": {},
   "source": [
    "### Binary encoding - to encode categorical variable into numeric variable as KNN requires all input features to be numerical."
   ]
  },
  {
   "cell_type": "code",
   "execution_count": 34,
   "id": "6f1e5fff-ce44-489d-a76d-c041f9141d59",
   "metadata": {},
   "outputs": [
    {
     "name": "stdout",
     "output_type": "stream",
     "text": [
      "<class 'pandas.core.frame.DataFrame'>\n",
      "Index: 9688065 entries, 28882 to 24382138\n",
      "Data columns (total 16 columns):\n",
      " #   Column          Dtype  \n",
      "---  ------          -----  \n",
      " 0   User            int64  \n",
      " 1   Card            int64  \n",
      " 2   Year            int64  \n",
      " 3   Month           int64  \n",
      " 4   Day             int64  \n",
      " 5   Amount          float64\n",
      " 6   Use Chip        object \n",
      " 7   Merchant Name   int64  \n",
      " 8   Merchant City   object \n",
      " 9   Merchant State  object \n",
      " 10  Zip             object \n",
      " 11  MCC             int64  \n",
      " 12  Errors?         object \n",
      " 13  Is Fraud?       int64  \n",
      " 14  Hour            object \n",
      " 15  Minute          object \n",
      "dtypes: float64(1), int64(8), object(7)\n",
      "memory usage: 1.2+ GB\n"
     ]
    }
   ],
   "source": [
    "df.info()"
   ]
  },
  {
   "cell_type": "code",
   "execution_count": 35,
   "id": "c969087d-f9af-4c58-8b1e-6f5cd3f0ca53",
   "metadata": {},
   "outputs": [
    {
     "data": {
      "text/html": [
       "<div>\n",
       "<style scoped>\n",
       "    .dataframe tbody tr th:only-of-type {\n",
       "        vertical-align: middle;\n",
       "    }\n",
       "\n",
       "    .dataframe tbody tr th {\n",
       "        vertical-align: top;\n",
       "    }\n",
       "\n",
       "    .dataframe thead th {\n",
       "        text-align: right;\n",
       "    }\n",
       "</style>\n",
       "<table border=\"1\" class=\"dataframe\">\n",
       "  <thead>\n",
       "    <tr style=\"text-align: right;\">\n",
       "      <th></th>\n",
       "      <th>User</th>\n",
       "      <th>Card</th>\n",
       "      <th>Year</th>\n",
       "      <th>Month</th>\n",
       "      <th>Day</th>\n",
       "      <th>Amount</th>\n",
       "      <th>Use Chip</th>\n",
       "      <th>Merchant Name</th>\n",
       "      <th>Merchant City</th>\n",
       "      <th>Merchant State</th>\n",
       "      <th>Zip</th>\n",
       "      <th>MCC</th>\n",
       "      <th>Errors?</th>\n",
       "      <th>Is Fraud?</th>\n",
       "      <th>Hour</th>\n",
       "      <th>Minute</th>\n",
       "    </tr>\n",
       "  </thead>\n",
       "  <tbody>\n",
       "    <tr>\n",
       "      <th>28882</th>\n",
       "      <td>2</td>\n",
       "      <td>0</td>\n",
       "      <td>2009</td>\n",
       "      <td>9</td>\n",
       "      <td>26</td>\n",
       "      <td>948.44</td>\n",
       "      <td>Online Transaction</td>\n",
       "      <td>3694722044710185708</td>\n",
       "      <td>ONLINE</td>\n",
       "      <td>ONLINE</td>\n",
       "      <td>ONLINE</td>\n",
       "      <td>4722</td>\n",
       "      <td>Unknown</td>\n",
       "      <td>0</td>\n",
       "      <td>01</td>\n",
       "      <td>56</td>\n",
       "    </tr>\n",
       "    <tr>\n",
       "      <th>28883</th>\n",
       "      <td>2</td>\n",
       "      <td>0</td>\n",
       "      <td>2009</td>\n",
       "      <td>10</td>\n",
       "      <td>1</td>\n",
       "      <td>42.98</td>\n",
       "      <td>Online Transaction</td>\n",
       "      <td>-6458444334611773637</td>\n",
       "      <td>ONLINE</td>\n",
       "      <td>ONLINE</td>\n",
       "      <td>ONLINE</td>\n",
       "      <td>4784</td>\n",
       "      <td>Unknown</td>\n",
       "      <td>0</td>\n",
       "      <td>04</td>\n",
       "      <td>13</td>\n",
       "    </tr>\n",
       "    <tr>\n",
       "      <th>28884</th>\n",
       "      <td>2</td>\n",
       "      <td>0</td>\n",
       "      <td>2009</td>\n",
       "      <td>10</td>\n",
       "      <td>1</td>\n",
       "      <td>9.85</td>\n",
       "      <td>Swipe Transaction</td>\n",
       "      <td>-4891055843221560993</td>\n",
       "      <td>West Covina</td>\n",
       "      <td>CA</td>\n",
       "      <td>91792.0</td>\n",
       "      <td>5411</td>\n",
       "      <td>Unknown</td>\n",
       "      <td>0</td>\n",
       "      <td>10</td>\n",
       "      <td>49</td>\n",
       "    </tr>\n",
       "    <tr>\n",
       "      <th>28885</th>\n",
       "      <td>2</td>\n",
       "      <td>0</td>\n",
       "      <td>2009</td>\n",
       "      <td>10</td>\n",
       "      <td>1</td>\n",
       "      <td>36.39</td>\n",
       "      <td>Online Transaction</td>\n",
       "      <td>-6458444334611773637</td>\n",
       "      <td>ONLINE</td>\n",
       "      <td>ONLINE</td>\n",
       "      <td>ONLINE</td>\n",
       "      <td>4784</td>\n",
       "      <td>Unknown</td>\n",
       "      <td>0</td>\n",
       "      <td>14</td>\n",
       "      <td>30</td>\n",
       "    </tr>\n",
       "    <tr>\n",
       "      <th>28886</th>\n",
       "      <td>2</td>\n",
       "      <td>0</td>\n",
       "      <td>2009</td>\n",
       "      <td>10</td>\n",
       "      <td>2</td>\n",
       "      <td>56.60</td>\n",
       "      <td>Online Transaction</td>\n",
       "      <td>-6458444334611773637</td>\n",
       "      <td>ONLINE</td>\n",
       "      <td>ONLINE</td>\n",
       "      <td>ONLINE</td>\n",
       "      <td>4784</td>\n",
       "      <td>Unknown</td>\n",
       "      <td>0</td>\n",
       "      <td>04</td>\n",
       "      <td>25</td>\n",
       "    </tr>\n",
       "  </tbody>\n",
       "</table>\n",
       "</div>"
      ],
      "text/plain": [
       "       User  Card  Year  Month  Day  Amount            Use Chip  \\\n",
       "28882     2     0  2009      9   26  948.44  Online Transaction   \n",
       "28883     2     0  2009     10    1   42.98  Online Transaction   \n",
       "28884     2     0  2009     10    1    9.85   Swipe Transaction   \n",
       "28885     2     0  2009     10    1   36.39  Online Transaction   \n",
       "28886     2     0  2009     10    2   56.60  Online Transaction   \n",
       "\n",
       "             Merchant Name Merchant City Merchant State      Zip   MCC  \\\n",
       "28882  3694722044710185708        ONLINE         ONLINE   ONLINE  4722   \n",
       "28883 -6458444334611773637        ONLINE         ONLINE   ONLINE  4784   \n",
       "28884 -4891055843221560993   West Covina             CA  91792.0  5411   \n",
       "28885 -6458444334611773637        ONLINE         ONLINE   ONLINE  4784   \n",
       "28886 -6458444334611773637        ONLINE         ONLINE   ONLINE  4784   \n",
       "\n",
       "       Errors?  Is Fraud? Hour Minute  \n",
       "28882  Unknown          0   01     56  \n",
       "28883  Unknown          0   04     13  \n",
       "28884  Unknown          0   10     49  \n",
       "28885  Unknown          0   14     30  \n",
       "28886  Unknown          0   04     25  "
      ]
     },
     "execution_count": 35,
     "metadata": {},
     "output_type": "execute_result"
    }
   ],
   "source": [
    "df.head()"
   ]
  },
  {
   "cell_type": "code",
   "execution_count": 36,
   "id": "10936ad7-74de-47a8-a40b-1f48b02567b6",
   "metadata": {},
   "outputs": [],
   "source": [
    "import category_encoders as ce\n",
    "\n",
    "df['Hour'] = df['Hour'].astype('float')\n",
    "df['Minute'] = df['Minute'].astype('float')\n",
    "\n",
    "cols_to_encode = ['Use Chip', 'Merchant City', 'Merchant State', 'Zip', 'Errors?']\n",
    "\n",
    "for col in cols_to_encode:\n",
    "    if col in df.columns:\n",
    "        be = ce.BinaryEncoder(drop_invariant=False)\n",
    "        encoded_df = pd.DataFrame(be.fit_transform(df[col]), dtype = 'int8')\n",
    "        df = pd.concat([df, encoded_df], axis = 1)\n",
    "        df.drop([col], axis=1, inplace = True)\n",
    "\n",
    "    #for col in df.columns:\n",
    "        #df[col] = df[col].astype(float)\n",
    "\n"
   ]
  },
  {
   "cell_type": "code",
   "execution_count": 37,
   "id": "dc684cb6-016c-4d56-959b-77214c9dfdc8",
   "metadata": {},
   "outputs": [
    {
     "data": {
      "text/html": [
       "<div>\n",
       "<style scoped>\n",
       "    .dataframe tbody tr th:only-of-type {\n",
       "        vertical-align: middle;\n",
       "    }\n",
       "\n",
       "    .dataframe tbody tr th {\n",
       "        vertical-align: top;\n",
       "    }\n",
       "\n",
       "    .dataframe thead th {\n",
       "        text-align: right;\n",
       "    }\n",
       "</style>\n",
       "<table border=\"1\" class=\"dataframe\">\n",
       "  <thead>\n",
       "    <tr style=\"text-align: right;\">\n",
       "      <th></th>\n",
       "      <th>User</th>\n",
       "      <th>Card</th>\n",
       "      <th>Year</th>\n",
       "      <th>Month</th>\n",
       "      <th>Day</th>\n",
       "      <th>Amount</th>\n",
       "      <th>Merchant Name</th>\n",
       "      <th>MCC</th>\n",
       "      <th>Is Fraud?</th>\n",
       "      <th>Hour</th>\n",
       "      <th>...</th>\n",
       "      <th>Zip_10</th>\n",
       "      <th>Zip_11</th>\n",
       "      <th>Zip_12</th>\n",
       "      <th>Zip_13</th>\n",
       "      <th>Zip_14</th>\n",
       "      <th>Errors?_0</th>\n",
       "      <th>Errors?_1</th>\n",
       "      <th>Errors?_2</th>\n",
       "      <th>Errors?_3</th>\n",
       "      <th>Errors?_4</th>\n",
       "    </tr>\n",
       "  </thead>\n",
       "  <tbody>\n",
       "    <tr>\n",
       "      <th>28882</th>\n",
       "      <td>2</td>\n",
       "      <td>0</td>\n",
       "      <td>2009</td>\n",
       "      <td>9</td>\n",
       "      <td>26</td>\n",
       "      <td>948.44</td>\n",
       "      <td>3694722044710185708</td>\n",
       "      <td>4722</td>\n",
       "      <td>0</td>\n",
       "      <td>1.0</td>\n",
       "      <td>...</td>\n",
       "      <td>0</td>\n",
       "      <td>0</td>\n",
       "      <td>0</td>\n",
       "      <td>0</td>\n",
       "      <td>1</td>\n",
       "      <td>0</td>\n",
       "      <td>0</td>\n",
       "      <td>0</td>\n",
       "      <td>0</td>\n",
       "      <td>1</td>\n",
       "    </tr>\n",
       "    <tr>\n",
       "      <th>28883</th>\n",
       "      <td>2</td>\n",
       "      <td>0</td>\n",
       "      <td>2009</td>\n",
       "      <td>10</td>\n",
       "      <td>1</td>\n",
       "      <td>42.98</td>\n",
       "      <td>-6458444334611773637</td>\n",
       "      <td>4784</td>\n",
       "      <td>0</td>\n",
       "      <td>4.0</td>\n",
       "      <td>...</td>\n",
       "      <td>0</td>\n",
       "      <td>0</td>\n",
       "      <td>0</td>\n",
       "      <td>0</td>\n",
       "      <td>1</td>\n",
       "      <td>0</td>\n",
       "      <td>0</td>\n",
       "      <td>0</td>\n",
       "      <td>0</td>\n",
       "      <td>1</td>\n",
       "    </tr>\n",
       "    <tr>\n",
       "      <th>28884</th>\n",
       "      <td>2</td>\n",
       "      <td>0</td>\n",
       "      <td>2009</td>\n",
       "      <td>10</td>\n",
       "      <td>1</td>\n",
       "      <td>9.85</td>\n",
       "      <td>-4891055843221560993</td>\n",
       "      <td>5411</td>\n",
       "      <td>0</td>\n",
       "      <td>10.0</td>\n",
       "      <td>...</td>\n",
       "      <td>0</td>\n",
       "      <td>0</td>\n",
       "      <td>0</td>\n",
       "      <td>1</td>\n",
       "      <td>0</td>\n",
       "      <td>0</td>\n",
       "      <td>0</td>\n",
       "      <td>0</td>\n",
       "      <td>0</td>\n",
       "      <td>1</td>\n",
       "    </tr>\n",
       "    <tr>\n",
       "      <th>28885</th>\n",
       "      <td>2</td>\n",
       "      <td>0</td>\n",
       "      <td>2009</td>\n",
       "      <td>10</td>\n",
       "      <td>1</td>\n",
       "      <td>36.39</td>\n",
       "      <td>-6458444334611773637</td>\n",
       "      <td>4784</td>\n",
       "      <td>0</td>\n",
       "      <td>14.0</td>\n",
       "      <td>...</td>\n",
       "      <td>0</td>\n",
       "      <td>0</td>\n",
       "      <td>0</td>\n",
       "      <td>0</td>\n",
       "      <td>1</td>\n",
       "      <td>0</td>\n",
       "      <td>0</td>\n",
       "      <td>0</td>\n",
       "      <td>0</td>\n",
       "      <td>1</td>\n",
       "    </tr>\n",
       "    <tr>\n",
       "      <th>28886</th>\n",
       "      <td>2</td>\n",
       "      <td>0</td>\n",
       "      <td>2009</td>\n",
       "      <td>10</td>\n",
       "      <td>2</td>\n",
       "      <td>56.60</td>\n",
       "      <td>-6458444334611773637</td>\n",
       "      <td>4784</td>\n",
       "      <td>0</td>\n",
       "      <td>4.0</td>\n",
       "      <td>...</td>\n",
       "      <td>0</td>\n",
       "      <td>0</td>\n",
       "      <td>0</td>\n",
       "      <td>0</td>\n",
       "      <td>1</td>\n",
       "      <td>0</td>\n",
       "      <td>0</td>\n",
       "      <td>0</td>\n",
       "      <td>0</td>\n",
       "      <td>1</td>\n",
       "    </tr>\n",
       "  </tbody>\n",
       "</table>\n",
       "<p>5 rows × 55 columns</p>\n",
       "</div>"
      ],
      "text/plain": [
       "       User  Card  Year  Month  Day  Amount        Merchant Name   MCC  \\\n",
       "28882     2     0  2009      9   26  948.44  3694722044710185708  4722   \n",
       "28883     2     0  2009     10    1   42.98 -6458444334611773637  4784   \n",
       "28884     2     0  2009     10    1    9.85 -4891055843221560993  5411   \n",
       "28885     2     0  2009     10    1   36.39 -6458444334611773637  4784   \n",
       "28886     2     0  2009     10    2   56.60 -6458444334611773637  4784   \n",
       "\n",
       "       Is Fraud?  Hour  ...  Zip_10  Zip_11  Zip_12  Zip_13  Zip_14  \\\n",
       "28882          0   1.0  ...       0       0       0       0       1   \n",
       "28883          0   4.0  ...       0       0       0       0       1   \n",
       "28884          0  10.0  ...       0       0       0       1       0   \n",
       "28885          0  14.0  ...       0       0       0       0       1   \n",
       "28886          0   4.0  ...       0       0       0       0       1   \n",
       "\n",
       "       Errors?_0  Errors?_1  Errors?_2  Errors?_3  Errors?_4  \n",
       "28882          0          0          0          0          1  \n",
       "28883          0          0          0          0          1  \n",
       "28884          0          0          0          0          1  \n",
       "28885          0          0          0          0          1  \n",
       "28886          0          0          0          0          1  \n",
       "\n",
       "[5 rows x 55 columns]"
      ]
     },
     "execution_count": 37,
     "metadata": {},
     "output_type": "execute_result"
    }
   ],
   "source": [
    "df.head()"
   ]
  },
  {
   "cell_type": "code",
   "execution_count": 38,
   "id": "eb8d5f05-5153-4e01-9079-690da02f293a",
   "metadata": {},
   "outputs": [
    {
     "name": "stdout",
     "output_type": "stream",
     "text": [
      "<class 'pandas.core.frame.DataFrame'>\n",
      "Index: 9688065 entries, 28882 to 24382138\n",
      "Data columns (total 55 columns):\n",
      " #   Column            Dtype  \n",
      "---  ------            -----  \n",
      " 0   User              int64  \n",
      " 1   Card              int64  \n",
      " 2   Year              int64  \n",
      " 3   Month             int64  \n",
      " 4   Day               int64  \n",
      " 5   Amount            float64\n",
      " 6   Merchant Name     int64  \n",
      " 7   MCC               int64  \n",
      " 8   Is Fraud?         int64  \n",
      " 9   Hour              float64\n",
      " 10  Minute            float64\n",
      " 11  Use Chip_0        int8   \n",
      " 12  Use Chip_1        int8   \n",
      " 13  Merchant City_0   int8   \n",
      " 14  Merchant City_1   int8   \n",
      " 15  Merchant City_2   int8   \n",
      " 16  Merchant City_3   int8   \n",
      " 17  Merchant City_4   int8   \n",
      " 18  Merchant City_5   int8   \n",
      " 19  Merchant City_6   int8   \n",
      " 20  Merchant City_7   int8   \n",
      " 21  Merchant City_8   int8   \n",
      " 22  Merchant City_9   int8   \n",
      " 23  Merchant City_10  int8   \n",
      " 24  Merchant City_11  int8   \n",
      " 25  Merchant City_12  int8   \n",
      " 26  Merchant City_13  int8   \n",
      " 27  Merchant State_0  int8   \n",
      " 28  Merchant State_1  int8   \n",
      " 29  Merchant State_2  int8   \n",
      " 30  Merchant State_3  int8   \n",
      " 31  Merchant State_4  int8   \n",
      " 32  Merchant State_5  int8   \n",
      " 33  Merchant State_6  int8   \n",
      " 34  Merchant State_7  int8   \n",
      " 35  Zip_0             int8   \n",
      " 36  Zip_1             int8   \n",
      " 37  Zip_2             int8   \n",
      " 38  Zip_3             int8   \n",
      " 39  Zip_4             int8   \n",
      " 40  Zip_5             int8   \n",
      " 41  Zip_6             int8   \n",
      " 42  Zip_7             int8   \n",
      " 43  Zip_8             int8   \n",
      " 44  Zip_9             int8   \n",
      " 45  Zip_10            int8   \n",
      " 46  Zip_11            int8   \n",
      " 47  Zip_12            int8   \n",
      " 48  Zip_13            int8   \n",
      " 49  Zip_14            int8   \n",
      " 50  Errors?_0         int8   \n",
      " 51  Errors?_1         int8   \n",
      " 52  Errors?_2         int8   \n",
      " 53  Errors?_3         int8   \n",
      " 54  Errors?_4         int8   \n",
      "dtypes: float64(3), int64(8), int8(44)\n",
      "memory usage: 1.3 GB\n"
     ]
    }
   ],
   "source": [
    "df.info()"
   ]
  },
  {
   "cell_type": "markdown",
   "id": "bd9b8a12-d52d-447a-88e8-30d65d7dd3b3",
   "metadata": {},
   "source": [
    "### Data Preprocessing"
   ]
  },
  {
   "cell_type": "code",
   "execution_count": 39,
   "id": "5c9846fe-6929-4ccf-bfdc-aeb1420d354e",
   "metadata": {},
   "outputs": [],
   "source": [
    "from sklearn.model_selection import train_test_split\n",
    "from imblearn.under_sampling import RandomUnderSampler"
   ]
  },
  {
   "cell_type": "code",
   "execution_count": 40,
   "id": "9558fc67-bbfa-4fb6-a835-f4fce8deb75b",
   "metadata": {},
   "outputs": [],
   "source": [
    "# Define features (X) and target (y)\n",
    "X = df.drop('Is Fraud?', axis=1)\n",
    "y = df['Is Fraud?']\n"
   ]
  },
  {
   "cell_type": "markdown",
   "id": "2ce9db23-a18b-4fae-a37d-96f1363b604b",
   "metadata": {},
   "source": [
    "### Under sampling\n",
    "Due to the limitation of computational capacity, I subset 50,000 data with 20% of them being fraud cases in order to balance the proportion and ensure model performance. "
   ]
  },
  {
   "cell_type": "code",
   "execution_count": 41,
   "id": "bba36df7-449b-4060-8c25-f261626bfa5d",
   "metadata": {},
   "outputs": [],
   "source": [
    "proportion = 0.2\n",
    "total_samples = 50000\n",
    "fraud_samples = int(total_samples * proportion)\n",
    "\n",
    "# Create RandomUnderSampler with the desired sampling strategy\n",
    "rus = RandomUnderSampler(sampling_strategy={0:total_samples - fraud_samples, 1:fraud_samples}, random_state = 42)\n",
    "\n",
    "# apply random undersampling to the original dataset\n",
    "X_resampled, y_resampled = rus.fit_resample(X, y)\n",
    "\n"
   ]
  },
  {
   "cell_type": "code",
   "execution_count": 44,
   "id": "205080e7-d9d5-45cb-933e-87c0f0c5fe3e",
   "metadata": {},
   "outputs": [],
   "source": [
    "# Split the data into training and testing sets\n",
    "X_train, X_test, y_train, y_test = train_test_split(X_resampled, y_resampled, test_size = 0.25, random_state = 42)"
   ]
  },
  {
   "cell_type": "markdown",
   "id": "d1854ad6-39c0-4681-b68f-645e886ad5e2",
   "metadata": {},
   "source": [
    "### Data Scaling"
   ]
  },
  {
   "cell_type": "code",
   "execution_count": 45,
   "id": "5bb53bf0-a5d9-4c52-a731-2f75202c972f",
   "metadata": {},
   "outputs": [],
   "source": [
    "from sklearn.preprocessing import StandardScaler # used for standardizing features (scaling them to have zero mean and unit variance)\n",
    "\n",
    "scaler = StandardScaler()\n",
    "X_train = scaler.fit_transform(X_train)\n",
    "X_test = scaler.transform(X_test)"
   ]
  },
  {
   "cell_type": "markdown",
   "id": "cd849a22-72f0-4895-8b23-7397902571fc",
   "metadata": {},
   "source": [
    "### Model Training and Evaluation"
   ]
  },
  {
   "cell_type": "code",
   "execution_count": 46,
   "id": "bb14c44c-26d6-4f56-b640-735be4a112cc",
   "metadata": {},
   "outputs": [
    {
     "name": "stdout",
     "output_type": "stream",
     "text": [
      "Classification Report:\n",
      "              precision    recall  f1-score   support\n",
      "\n",
      "           0       0.95      0.96      0.96     10010\n",
      "           1       0.84      0.79      0.82      2490\n",
      "\n",
      "    accuracy                           0.93     12500\n",
      "   macro avg       0.90      0.88      0.89     12500\n",
      "weighted avg       0.93      0.93      0.93     12500\n",
      "\n",
      "Accuracy Score:  0.92896\n"
     ]
    }
   ],
   "source": [
    "from sklearn.neighbors import LocalOutlierFactor, KNeighborsClassifier\n",
    "from sklearn.metrics import accuracy_score, classification_report\n",
    "\n",
    "model = KNeighborsClassifier(n_neighbors=5)\n",
    "model.fit(X_train, y_train)\n",
    "\n",
    "y_pred = model.predict(X_test) # make predictions\n",
    "\n",
    "# Print classification report\n",
    "print('Classification Report:')\n",
    "print(classification_report(y_test, y_pred))\n",
    "\n",
    "# print accuracy score\n",
    "print(\"Accuracy Score: \", accuracy_score(y_test, y_pred))"
   ]
  },
  {
   "cell_type": "code",
   "execution_count": 49,
   "id": "4500200f-b554-4156-98f9-77f2e081b573",
   "metadata": {},
   "outputs": [
    {
     "data": {
      "image/png": "[encoded data removed]",
      "text/plain": [
       "<Figure size 1500x1000 with 2 Axes>"
      ]
     },
     "metadata": {},
     "output_type": "display_data"
    }
   ],
   "source": [
    "from sklearn.metrics import confusion_matrix\n",
    "\n",
    "cm = confusion_matrix(y_test, y_pred)\n",
    "\n",
    "plt.figure(figsize=(15,10))\n",
    "sb.heatmap(cm, annot = True, fmt = 'd', cmap = 'Reds')\n",
    "plt.xlabel('Predicted')\n",
    "plt.ylabel('True')\n",
    "plt.title('Confusion Matrix')\n",
    "plt.show()"
   ]
  },
  {
   "cell_type": "markdown",
   "id": "cd9ba23c-9466-4ff8-a7d6-e9bf82101e54",
   "metadata": {},
   "source": [
    "TN = 9650 -> 9650 transaction were correctly identified as non-fradulent by the model, \n",
    "TP = 1962 -> 1962 transaction were correctly identified as fradulent by the model, \n",
    "FN = 528 -> 528 transaction were wrongly identified as non-fradulent by the model, \n",
    "FP = 360 -> 360 transaction were wrongly identified as fradulent by the model"
   ]
  },
  {
   "cell_type": "markdown",
   "id": "a5c3f009-368c-44e9-8369-a57b2641245e",
   "metadata": {},
   "source": [
    "## Conclusion"
   ]
  },
  {
   "cell_type": "markdown",
   "id": "c68fc54e-6a59-4f6c-9e86-888d05f98ca6",
   "metadata": {},
   "source": [
    "The K-Nearest Neighbors (KNN) algorithm, despite its simplicity, has proven to be a formidable method for classification tasks, including those that are intricate and critical, such as fraud detection in credit card transactions."
   ]
  }
 ],
 "metadata": {
  "kernelspec": {
   "display_name": "Python 3 (ipykernel)",
   "language": "python",
   "name": "python3"
  },
  "language_info": {
   "codemirror_mode": {
    "name": "ipython",
    "version": 3
   },
   "file_extension": ".py",
   "mimetype": "text/x-python",
   "name": "python",
   "nbconvert_exporter": "python",
   "pygments_lexer": "ipython3",
   "version": "3.12.4"
  }
 },
 "nbformat": 4,
 "nbformat_minor": 5
}
